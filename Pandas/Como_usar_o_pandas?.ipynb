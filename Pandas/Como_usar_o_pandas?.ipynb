{
  "nbformat": 4,
  "nbformat_minor": 0,
  "metadata": {
    "colab": {
      "name": "Como usar o pandas?.ipynb",
      "provenance": [],
      "authorship_tag": "ABX9TyNDZcvEWq4K4q1GprhI7bE6",
      "include_colab_link": true
    },
    "kernelspec": {
      "name": "python3",
      "display_name": "Python 3"
    },
    "language_info": {
      "name": "python"
    }
  },
  "cells": [
    {
      "cell_type": "markdown",
      "metadata": {
        "id": "view-in-github",
        "colab_type": "text"
      },
      "source": [
        "<a href=\"https://colab.research.google.com/github/brunamulinari/BasicPythonProjects/blob/main/Pandas/Como_usar_o_pandas%3F.ipynb\" target=\"_parent\"><img src=\"https://colab.research.google.com/assets/colab-badge.svg\" alt=\"Open In Colab\"/></a>"
      ]
    },
    {
      "cell_type": "markdown",
      "metadata": {
        "id": "rD6KiuWl74A5"
      },
      "source": [
        "Este é um tutorial criado para você que deseja começar a utilizar a biblioteca Pandas."
      ]
    },
    {
      "cell_type": "markdown",
      "metadata": {
        "id": "SAmhVTFm8itf"
      },
      "source": [
        "Verificando quais os pacotes instalados:"
      ]
    },
    {
      "cell_type": "code",
      "metadata": {
        "id": "i6AvK53B8l8G"
      },
      "source": [
        "help('modules')"
      ],
      "execution_count": null,
      "outputs": []
    },
    {
      "cell_type": "code",
      "metadata": {
        "id": "32hTOaTu8xlf"
      },
      "source": [
        "pip freeze"
      ],
      "execution_count": null,
      "outputs": []
    },
    {
      "cell_type": "markdown",
      "metadata": {
        "id": "Tg2AY9Zn7o0J"
      },
      "source": [
        "Instalando a biblioteca:"
      ]
    },
    {
      "cell_type": "code",
      "metadata": {
        "colab": {
          "base_uri": "https://localhost:8080/"
        },
        "id": "cY_vJwbX7kXM",
        "outputId": "75d5e7bc-3ae8-44f0-9732-047745d33c53"
      },
      "source": [
        "pip install pandas"
      ],
      "execution_count": 1,
      "outputs": [
        {
          "output_type": "stream",
          "text": [
            "Requirement already satisfied: pandas in /usr/local/lib/python3.7/dist-packages (1.1.5)\n",
            "Requirement already satisfied: pytz>=2017.2 in /usr/local/lib/python3.7/dist-packages (from pandas) (2018.9)\n",
            "Requirement already satisfied: numpy>=1.15.4 in /usr/local/lib/python3.7/dist-packages (from pandas) (1.19.5)\n",
            "Requirement already satisfied: python-dateutil>=2.7.3 in /usr/local/lib/python3.7/dist-packages (from pandas) (2.8.1)\n",
            "Requirement already satisfied: six>=1.5 in /usr/local/lib/python3.7/dist-packages (from python-dateutil>=2.7.3->pandas) (1.15.0)\n"
          ],
          "name": "stdout"
        }
      ]
    },
    {
      "cell_type": "markdown",
      "metadata": {
        "id": "50-Bx9AS88n6"
      },
      "source": [
        "Importando a biblioteca:"
      ]
    },
    {
      "cell_type": "code",
      "metadata": {
        "id": "uFUx_a4Z8ZLu"
      },
      "source": [
        "import pandas as pd"
      ],
      "execution_count": 2,
      "outputs": []
    },
    {
      "cell_type": "markdown",
      "metadata": {
        "id": "K-3pZj9v-6uk"
      },
      "source": [
        "Importando nossos dados:"
      ]
    },
    {
      "cell_type": "code",
      "metadata": {
        "id": "9xa8vQIX8bsk"
      },
      "source": [
        "df = pd.read_csv('https://raw.githubusercontent.com/brunamulinari/BasicPythonProjects/main/Base_ficticia/baseficticia.csv', \n",
        "                 sep = ';')"
      ],
      "execution_count": 3,
      "outputs": []
    },
    {
      "cell_type": "markdown",
      "metadata": {
        "id": "nilpHZLR7P-C"
      },
      "source": [
        "**Obs**: Os dados utilizados aqui são de uma base de dados fictícia, criada para a manipulação de dados."
      ]
    },
    {
      "cell_type": "markdown",
      "metadata": {
        "id": "YgpUlKcI_Lcm"
      },
      "source": [
        "Exibindo o tipo de dado:"
      ]
    },
    {
      "cell_type": "code",
      "metadata": {
        "colab": {
          "base_uri": "https://localhost:8080/"
        },
        "id": "g4ljTYSs_R6k",
        "outputId": "d06f79ce-6438-4416-b408-777ce4ff58e7"
      },
      "source": [
        "type(df)"
      ],
      "execution_count": 4,
      "outputs": [
        {
          "output_type": "execute_result",
          "data": {
            "text/plain": [
              "pandas.core.frame.DataFrame"
            ]
          },
          "metadata": {
            "tags": []
          },
          "execution_count": 4
        }
      ]
    },
    {
      "cell_type": "markdown",
      "metadata": {
        "id": "9ZJH3b3GBVpU"
      },
      "source": [
        "Exibindo as primeiras 6 linhas do conjunto de dados:"
      ]
    },
    {
      "cell_type": "code",
      "metadata": {
        "colab": {
          "base_uri": "https://localhost:8080/",
          "height": 225
        },
        "id": "J3T1uvld_Us6",
        "outputId": "6c67542e-65a3-47f5-d7bf-766057a7ff7b"
      },
      "source": [
        "df.head(n=6)"
      ],
      "execution_count": 5,
      "outputs": [
        {
          "output_type": "execute_result",
          "data": {
            "text/html": [
              "<div>\n",
              "<style scoped>\n",
              "    .dataframe tbody tr th:only-of-type {\n",
              "        vertical-align: middle;\n",
              "    }\n",
              "\n",
              "    .dataframe tbody tr th {\n",
              "        vertical-align: top;\n",
              "    }\n",
              "\n",
              "    .dataframe thead th {\n",
              "        text-align: right;\n",
              "    }\n",
              "</style>\n",
              "<table border=\"1\" class=\"dataframe\">\n",
              "  <thead>\n",
              "    <tr style=\"text-align: right;\">\n",
              "      <th></th>\n",
              "      <th>id</th>\n",
              "      <th>data_aq</th>\n",
              "      <th>produto</th>\n",
              "      <th>quantidade</th>\n",
              "      <th>valor UN</th>\n",
              "      <th>TotaL</th>\n",
              "      <th>setor</th>\n",
              "    </tr>\n",
              "  </thead>\n",
              "  <tbody>\n",
              "    <tr>\n",
              "      <th>0</th>\n",
              "      <td>0</td>\n",
              "      <td>01/01/2019</td>\n",
              "      <td>toalha</td>\n",
              "      <td>6</td>\n",
              "      <td>R$ 35,00</td>\n",
              "      <td>R$ 210,00</td>\n",
              "      <td>Mesa_banho</td>\n",
              "    </tr>\n",
              "    <tr>\n",
              "      <th>1</th>\n",
              "      <td>1</td>\n",
              "      <td>02/01/2019</td>\n",
              "      <td>toalha</td>\n",
              "      <td>6</td>\n",
              "      <td>R$ 35,00</td>\n",
              "      <td>R$ 210,00</td>\n",
              "      <td>--</td>\n",
              "    </tr>\n",
              "    <tr>\n",
              "      <th>2</th>\n",
              "      <td>2</td>\n",
              "      <td>03/01/2019</td>\n",
              "      <td>toalha</td>\n",
              "      <td>2</td>\n",
              "      <td>R$ 35,00</td>\n",
              "      <td>R$ 70,00</td>\n",
              "      <td>mesa_banho</td>\n",
              "    </tr>\n",
              "    <tr>\n",
              "      <th>3</th>\n",
              "      <td>3</td>\n",
              "      <td>01/02/2019</td>\n",
              "      <td>toalha</td>\n",
              "      <td>5</td>\n",
              "      <td>R$ 35,00</td>\n",
              "      <td>R$ 175,00</td>\n",
              "      <td>nada</td>\n",
              "    </tr>\n",
              "    <tr>\n",
              "      <th>4</th>\n",
              "      <td>4</td>\n",
              "      <td>02/02/2019</td>\n",
              "      <td>toalha</td>\n",
              "      <td>9</td>\n",
              "      <td>R$ 35,00</td>\n",
              "      <td>R$ 315,00</td>\n",
              "      <td>mesa_banho</td>\n",
              "    </tr>\n",
              "    <tr>\n",
              "      <th>5</th>\n",
              "      <td>5</td>\n",
              "      <td>04/01/2019</td>\n",
              "      <td>NaN</td>\n",
              "      <td>2</td>\n",
              "      <td>R$ 35,00</td>\n",
              "      <td>R$ 70,00</td>\n",
              "      <td>mesa_banho</td>\n",
              "    </tr>\n",
              "  </tbody>\n",
              "</table>\n",
              "</div>"
            ],
            "text/plain": [
              "   id     data_aq produto  quantidade  valor UN      TotaL       setor\n",
              "0   0  01/01/2019  toalha           6  R$ 35,00  R$ 210,00  Mesa_banho\n",
              "1   1  02/01/2019  toalha           6  R$ 35,00  R$ 210,00          --\n",
              "2   2  03/01/2019  toalha           2  R$ 35,00   R$ 70,00  mesa_banho\n",
              "3   3  01/02/2019  toalha           5  R$ 35,00  R$ 175,00        nada\n",
              "4   4  02/02/2019  toalha           9  R$ 35,00  R$ 315,00  mesa_banho\n",
              "5   5  04/01/2019     NaN           2  R$ 35,00   R$ 70,00  mesa_banho"
            ]
          },
          "metadata": {
            "tags": []
          },
          "execution_count": 5
        }
      ]
    },
    {
      "cell_type": "markdown",
      "metadata": {
        "id": "3FS5GeOUUKN2"
      },
      "source": [
        "Recarregando o banco considerando todos os valores vazios que pode ter na planilha atual (depende do padrão da empresa/equipe que utiliza a planilha):"
      ]
    },
    {
      "cell_type": "code",
      "metadata": {
        "id": "DdjkkX8-UdWY"
      },
      "source": [
        "df = pd.read_csv('https://raw.githubusercontent.com/brunamulinari/BasicPythonProjects/main/Base_ficticia/baseficticia.csv', \n",
        "                 sep = ';', na_values=['--','n/a', 'nada'])"
      ],
      "execution_count": 6,
      "outputs": []
    },
    {
      "cell_type": "markdown",
      "metadata": {
        "id": "o_12zEMAUxfb"
      },
      "source": [
        "Revendo as primeras linhas, somente para observação se os valores '--' ,'n/a' e 'nada' foram substítuidos:"
      ]
    },
    {
      "cell_type": "code",
      "metadata": {
        "colab": {
          "base_uri": "https://localhost:8080/",
          "height": 166
        },
        "id": "jVkLSCEZUvSi",
        "outputId": "902d082e-83a8-4308-f011-c6b6121e25ec"
      },
      "source": [
        "df.head(n=4)"
      ],
      "execution_count": 7,
      "outputs": [
        {
          "output_type": "execute_result",
          "data": {
            "text/html": [
              "<div>\n",
              "<style scoped>\n",
              "    .dataframe tbody tr th:only-of-type {\n",
              "        vertical-align: middle;\n",
              "    }\n",
              "\n",
              "    .dataframe tbody tr th {\n",
              "        vertical-align: top;\n",
              "    }\n",
              "\n",
              "    .dataframe thead th {\n",
              "        text-align: right;\n",
              "    }\n",
              "</style>\n",
              "<table border=\"1\" class=\"dataframe\">\n",
              "  <thead>\n",
              "    <tr style=\"text-align: right;\">\n",
              "      <th></th>\n",
              "      <th>id</th>\n",
              "      <th>data_aq</th>\n",
              "      <th>produto</th>\n",
              "      <th>quantidade</th>\n",
              "      <th>valor UN</th>\n",
              "      <th>TotaL</th>\n",
              "      <th>setor</th>\n",
              "    </tr>\n",
              "  </thead>\n",
              "  <tbody>\n",
              "    <tr>\n",
              "      <th>0</th>\n",
              "      <td>0</td>\n",
              "      <td>01/01/2019</td>\n",
              "      <td>toalha</td>\n",
              "      <td>6</td>\n",
              "      <td>R$ 35,00</td>\n",
              "      <td>R$ 210,00</td>\n",
              "      <td>Mesa_banho</td>\n",
              "    </tr>\n",
              "    <tr>\n",
              "      <th>1</th>\n",
              "      <td>1</td>\n",
              "      <td>02/01/2019</td>\n",
              "      <td>toalha</td>\n",
              "      <td>6</td>\n",
              "      <td>R$ 35,00</td>\n",
              "      <td>R$ 210,00</td>\n",
              "      <td>NaN</td>\n",
              "    </tr>\n",
              "    <tr>\n",
              "      <th>2</th>\n",
              "      <td>2</td>\n",
              "      <td>03/01/2019</td>\n",
              "      <td>toalha</td>\n",
              "      <td>2</td>\n",
              "      <td>R$ 35,00</td>\n",
              "      <td>R$ 70,00</td>\n",
              "      <td>mesa_banho</td>\n",
              "    </tr>\n",
              "    <tr>\n",
              "      <th>3</th>\n",
              "      <td>3</td>\n",
              "      <td>01/02/2019</td>\n",
              "      <td>toalha</td>\n",
              "      <td>5</td>\n",
              "      <td>R$ 35,00</td>\n",
              "      <td>R$ 175,00</td>\n",
              "      <td>NaN</td>\n",
              "    </tr>\n",
              "  </tbody>\n",
              "</table>\n",
              "</div>"
            ],
            "text/plain": [
              "   id     data_aq produto  quantidade  valor UN      TotaL       setor\n",
              "0   0  01/01/2019  toalha           6  R$ 35,00  R$ 210,00  Mesa_banho\n",
              "1   1  02/01/2019  toalha           6  R$ 35,00  R$ 210,00         NaN\n",
              "2   2  03/01/2019  toalha           2  R$ 35,00   R$ 70,00  mesa_banho\n",
              "3   3  01/02/2019  toalha           5  R$ 35,00  R$ 175,00         NaN"
            ]
          },
          "metadata": {
            "tags": []
          },
          "execution_count": 7
        }
      ]
    },
    {
      "cell_type": "markdown",
      "metadata": {
        "id": "cpTN2srMBcrs"
      },
      "source": [
        "Exibindo as últimas 5 linhas do conjunto de dados:"
      ]
    },
    {
      "cell_type": "code",
      "metadata": {
        "colab": {
          "base_uri": "https://localhost:8080/",
          "height": 195
        },
        "id": "bD8gXGbTBfzW",
        "outputId": "da6857c6-f265-4ced-e619-5a192dfd83cf"
      },
      "source": [
        "df.tail(n=5)"
      ],
      "execution_count": 8,
      "outputs": [
        {
          "output_type": "execute_result",
          "data": {
            "text/html": [
              "<div>\n",
              "<style scoped>\n",
              "    .dataframe tbody tr th:only-of-type {\n",
              "        vertical-align: middle;\n",
              "    }\n",
              "\n",
              "    .dataframe tbody tr th {\n",
              "        vertical-align: top;\n",
              "    }\n",
              "\n",
              "    .dataframe thead th {\n",
              "        text-align: right;\n",
              "    }\n",
              "</style>\n",
              "<table border=\"1\" class=\"dataframe\">\n",
              "  <thead>\n",
              "    <tr style=\"text-align: right;\">\n",
              "      <th></th>\n",
              "      <th>id</th>\n",
              "      <th>data_aq</th>\n",
              "      <th>produto</th>\n",
              "      <th>quantidade</th>\n",
              "      <th>valor UN</th>\n",
              "      <th>TotaL</th>\n",
              "      <th>setor</th>\n",
              "    </tr>\n",
              "  </thead>\n",
              "  <tbody>\n",
              "    <tr>\n",
              "      <th>544</th>\n",
              "      <td>544</td>\n",
              "      <td>31/07/2019</td>\n",
              "      <td>quebra_cabeca</td>\n",
              "      <td>9</td>\n",
              "      <td>R$ 19,99</td>\n",
              "      <td>R$ 179,91</td>\n",
              "      <td>brinquedos</td>\n",
              "    </tr>\n",
              "    <tr>\n",
              "      <th>545</th>\n",
              "      <td>545</td>\n",
              "      <td>01/08/2019</td>\n",
              "      <td>quebra_cabeca</td>\n",
              "      <td>3</td>\n",
              "      <td>R$ 19,99</td>\n",
              "      <td>R$ 59,97</td>\n",
              "      <td>brinquedos</td>\n",
              "    </tr>\n",
              "    <tr>\n",
              "      <th>546</th>\n",
              "      <td>546</td>\n",
              "      <td>30/07/2019</td>\n",
              "      <td>quebra_cabeca</td>\n",
              "      <td>4</td>\n",
              "      <td>R$ 19,99</td>\n",
              "      <td>R$ 79,96</td>\n",
              "      <td>brinquedos</td>\n",
              "    </tr>\n",
              "    <tr>\n",
              "      <th>547</th>\n",
              "      <td>547</td>\n",
              "      <td>31/07/2019</td>\n",
              "      <td>quebra_cabeca</td>\n",
              "      <td>1</td>\n",
              "      <td>R$ 19,99</td>\n",
              "      <td>R$ 19,99</td>\n",
              "      <td>brinquedos</td>\n",
              "    </tr>\n",
              "    <tr>\n",
              "      <th>548</th>\n",
              "      <td>548</td>\n",
              "      <td>2019-03-03 00:00:00</td>\n",
              "      <td>quebra_cabeca</td>\n",
              "      <td>8</td>\n",
              "      <td>R$ 19,99</td>\n",
              "      <td>R$ 159,92</td>\n",
              "      <td>Brinquedos</td>\n",
              "    </tr>\n",
              "  </tbody>\n",
              "</table>\n",
              "</div>"
            ],
            "text/plain": [
              "      id              data_aq        produto  ...  valor UN      TotaL       setor\n",
              "544  544           31/07/2019  quebra_cabeca  ...  R$ 19,99  R$ 179,91  brinquedos\n",
              "545  545           01/08/2019  quebra_cabeca  ...  R$ 19,99   R$ 59,97  brinquedos\n",
              "546  546           30/07/2019  quebra_cabeca  ...  R$ 19,99   R$ 79,96  brinquedos\n",
              "547  547           31/07/2019  quebra_cabeca  ...  R$ 19,99   R$ 19,99  brinquedos\n",
              "548  548  2019-03-03 00:00:00  quebra_cabeca  ...  R$ 19,99  R$ 159,92  Brinquedos\n",
              "\n",
              "[5 rows x 7 columns]"
            ]
          },
          "metadata": {
            "tags": []
          },
          "execution_count": 8
        }
      ]
    },
    {
      "cell_type": "markdown",
      "metadata": {
        "id": "q7rDagfQBp9b"
      },
      "source": [
        "Exibindo o tamanho do banco de dados:"
      ]
    },
    {
      "cell_type": "code",
      "metadata": {
        "colab": {
          "base_uri": "https://localhost:8080/"
        },
        "id": "Wbb1wEO2CFhN",
        "outputId": "80ae30bc-7a7d-4595-aa66-2f97fe49b034"
      },
      "source": [
        "df.shape"
      ],
      "execution_count": 9,
      "outputs": [
        {
          "output_type": "execute_result",
          "data": {
            "text/plain": [
              "(549, 7)"
            ]
          },
          "metadata": {
            "tags": []
          },
          "execution_count": 9
        }
      ]
    },
    {
      "cell_type": "markdown",
      "metadata": {
        "id": "F3vGa3uKC7ik"
      },
      "source": [
        "Informações sobre nosso banco de dados:"
      ]
    },
    {
      "cell_type": "code",
      "metadata": {
        "colab": {
          "base_uri": "https://localhost:8080/"
        },
        "id": "SupYTRftC96Q",
        "outputId": "56989fd9-515e-4765-c81b-9fb53defa7ca"
      },
      "source": [
        "df.info()"
      ],
      "execution_count": 10,
      "outputs": [
        {
          "output_type": "stream",
          "text": [
            "<class 'pandas.core.frame.DataFrame'>\n",
            "RangeIndex: 549 entries, 0 to 548\n",
            "Data columns (total 7 columns):\n",
            " #   Column      Non-Null Count  Dtype \n",
            "---  ------      --------------  ----- \n",
            " 0   id          549 non-null    int64 \n",
            " 1   data_aq     549 non-null    object\n",
            " 2   produto     542 non-null    object\n",
            " 3   quantidade  549 non-null    int64 \n",
            " 4   valor UN    549 non-null    object\n",
            " 5   TotaL       549 non-null    object\n",
            " 6   setor       535 non-null    object\n",
            "dtypes: int64(2), object(5)\n",
            "memory usage: 30.1+ KB\n"
          ],
          "name": "stdout"
        }
      ]
    },
    {
      "cell_type": "markdown",
      "metadata": {
        "id": "n9bA1Qc_DItk"
      },
      "source": [
        "Visualizando e substituindo os nomes das colunas:"
      ]
    },
    {
      "cell_type": "code",
      "metadata": {
        "colab": {
          "base_uri": "https://localhost:8080/"
        },
        "id": "bsWB7Jr4D8Iw",
        "outputId": "477e2753-6490-4d9b-f837-5f2ee1828364"
      },
      "source": [
        "df.columns"
      ],
      "execution_count": 11,
      "outputs": [
        {
          "output_type": "execute_result",
          "data": {
            "text/plain": [
              "Index(['id', 'data_aq', 'produto', 'quantidade', 'valor UN', 'TotaL', 'setor'], dtype='object')"
            ]
          },
          "metadata": {
            "tags": []
          },
          "execution_count": 11
        }
      ]
    },
    {
      "cell_type": "code",
      "metadata": {
        "id": "UZj12JdFD9aV"
      },
      "source": [
        "df.columns = ['id', 'data_aq', 'produto', 'quantidade', 'valor_un', 'valor_total',\n",
        "       'setor']"
      ],
      "execution_count": 12,
      "outputs": []
    },
    {
      "cell_type": "markdown",
      "metadata": {
        "id": "3Iws3lTHsmSV"
      },
      "source": [
        "Visualizando as duas primeiras linhas para conferir a alteração dos nomes das colunas:"
      ]
    },
    {
      "cell_type": "code",
      "metadata": {
        "colab": {
          "base_uri": "https://localhost:8080/",
          "height": 106
        },
        "id": "pH4dnM2vsrnE",
        "outputId": "33534e67-5108-4777-fca7-4b3fc09af14e"
      },
      "source": [
        "df.head(n=2)"
      ],
      "execution_count": 13,
      "outputs": [
        {
          "output_type": "execute_result",
          "data": {
            "text/html": [
              "<div>\n",
              "<style scoped>\n",
              "    .dataframe tbody tr th:only-of-type {\n",
              "        vertical-align: middle;\n",
              "    }\n",
              "\n",
              "    .dataframe tbody tr th {\n",
              "        vertical-align: top;\n",
              "    }\n",
              "\n",
              "    .dataframe thead th {\n",
              "        text-align: right;\n",
              "    }\n",
              "</style>\n",
              "<table border=\"1\" class=\"dataframe\">\n",
              "  <thead>\n",
              "    <tr style=\"text-align: right;\">\n",
              "      <th></th>\n",
              "      <th>id</th>\n",
              "      <th>data_aq</th>\n",
              "      <th>produto</th>\n",
              "      <th>quantidade</th>\n",
              "      <th>valor_un</th>\n",
              "      <th>valor_total</th>\n",
              "      <th>setor</th>\n",
              "    </tr>\n",
              "  </thead>\n",
              "  <tbody>\n",
              "    <tr>\n",
              "      <th>0</th>\n",
              "      <td>0</td>\n",
              "      <td>01/01/2019</td>\n",
              "      <td>toalha</td>\n",
              "      <td>6</td>\n",
              "      <td>R$ 35,00</td>\n",
              "      <td>R$ 210,00</td>\n",
              "      <td>Mesa_banho</td>\n",
              "    </tr>\n",
              "    <tr>\n",
              "      <th>1</th>\n",
              "      <td>1</td>\n",
              "      <td>02/01/2019</td>\n",
              "      <td>toalha</td>\n",
              "      <td>6</td>\n",
              "      <td>R$ 35,00</td>\n",
              "      <td>R$ 210,00</td>\n",
              "      <td>NaN</td>\n",
              "    </tr>\n",
              "  </tbody>\n",
              "</table>\n",
              "</div>"
            ],
            "text/plain": [
              "   id     data_aq produto  quantidade  valor_un valor_total       setor\n",
              "0   0  01/01/2019  toalha           6  R$ 35,00   R$ 210,00  Mesa_banho\n",
              "1   1  02/01/2019  toalha           6  R$ 35,00   R$ 210,00         NaN"
            ]
          },
          "metadata": {
            "tags": []
          },
          "execution_count": 13
        }
      ]
    },
    {
      "cell_type": "markdown",
      "metadata": {
        "id": "xyvCiLdo8NrQ"
      },
      "source": [
        "Avaliando quantos valores nulos existem no nosso DataFrame:"
      ]
    },
    {
      "cell_type": "code",
      "metadata": {
        "colab": {
          "base_uri": "https://localhost:8080/"
        },
        "id": "8CK3lNP_K8B0",
        "outputId": "611b1fe9-a7f8-4aad-c7fe-10ef00a70e06"
      },
      "source": [
        "df.isnull().sum()"
      ],
      "execution_count": 14,
      "outputs": [
        {
          "output_type": "execute_result",
          "data": {
            "text/plain": [
              "id              0\n",
              "data_aq         0\n",
              "produto         7\n",
              "quantidade      0\n",
              "valor_un        0\n",
              "valor_total     0\n",
              "setor          14\n",
              "dtype: int64"
            ]
          },
          "metadata": {
            "tags": []
          },
          "execution_count": 14
        }
      ]
    },
    {
      "cell_type": "markdown",
      "metadata": {
        "id": "R4oVlbupZ0sQ"
      },
      "source": [
        "Você pode substitutir os valores fantantes por:"
      ]
    },
    {
      "cell_type": "code",
      "metadata": {
        "id": "_klIY5lXZzn6"
      },
      "source": [
        "df = df.fillna(value=0)"
      ],
      "execution_count": null,
      "outputs": []
    },
    {
      "cell_type": "markdown",
      "metadata": {
        "id": "UTh0-JIYZ5uA"
      },
      "source": [
        "Ou:"
      ]
    },
    {
      "cell_type": "code",
      "metadata": {
        "id": "qpQD6UTmZArq"
      },
      "source": [
        "df = df.fillna(method='ffill')"
      ],
      "execution_count": null,
      "outputs": []
    },
    {
      "cell_type": "markdown",
      "metadata": {
        "id": "kT5rKhxlNLhi"
      },
      "source": [
        "Mas atenção ao utilizar essa funçaõ de substituição, para não gerar erros de análise sobre o conjunto!"
      ]
    },
    {
      "cell_type": "markdown",
      "metadata": {
        "id": "CAaIHJ0eaExa"
      },
      "source": [
        "Eliminando as linhas que apresentem algum elemento faltante: "
      ]
    },
    {
      "cell_type": "code",
      "metadata": {
        "id": "hVECAa6pOQMx"
      },
      "source": [
        "df = df.dropna()"
      ],
      "execution_count": 15,
      "outputs": []
    },
    {
      "cell_type": "code",
      "metadata": {
        "colab": {
          "base_uri": "https://localhost:8080/"
        },
        "id": "6bw7ISxIcNqV",
        "outputId": "42324958-5990-40b3-a7d9-35563ad3571d"
      },
      "source": [
        "df.isnull().sum()"
      ],
      "execution_count": 16,
      "outputs": [
        {
          "output_type": "execute_result",
          "data": {
            "text/plain": [
              "id             0\n",
              "data_aq        0\n",
              "produto        0\n",
              "quantidade     0\n",
              "valor_un       0\n",
              "valor_total    0\n",
              "setor          0\n",
              "dtype: int64"
            ]
          },
          "metadata": {
            "tags": []
          },
          "execution_count": 16
        }
      ]
    },
    {
      "cell_type": "markdown",
      "metadata": {
        "id": "100upe4SJXXJ"
      },
      "source": [
        "Visualizando uma coluna em específico do nosso conjunto de dados:"
      ]
    },
    {
      "cell_type": "code",
      "metadata": {
        "colab": {
          "base_uri": "https://localhost:8080/"
        },
        "id": "JhLWocVXJEwa",
        "outputId": "1322d538-78a0-4045-fd2f-7fb8f433cb1d"
      },
      "source": [
        "df['setor']"
      ],
      "execution_count": 17,
      "outputs": [
        {
          "output_type": "execute_result",
          "data": {
            "text/plain": [
              "0      Mesa_banho\n",
              "2      mesa_banho\n",
              "4      mesa_banho\n",
              "6      mesa_banho\n",
              "7      mesa_banho\n",
              "          ...    \n",
              "544    brinquedos\n",
              "545    brinquedos\n",
              "546    brinquedos\n",
              "547    brinquedos\n",
              "548    Brinquedos\n",
              "Name: setor, Length: 528, dtype: object"
            ]
          },
          "metadata": {
            "tags": []
          },
          "execution_count": 17
        }
      ]
    },
    {
      "cell_type": "markdown",
      "metadata": {
        "id": "4pFavggRJVxq"
      },
      "source": [
        "Tipo de dado Python que resulta ao analisarmos uma coluna do objeto DataFrame:"
      ]
    },
    {
      "cell_type": "code",
      "metadata": {
        "colab": {
          "base_uri": "https://localhost:8080/"
        },
        "id": "eXtQrnsbJnaU",
        "outputId": "85e87245-8f9e-4ff2-f93d-d9089bfd0a51"
      },
      "source": [
        "type(df['setor'])"
      ],
      "execution_count": 18,
      "outputs": [
        {
          "output_type": "execute_result",
          "data": {
            "text/plain": [
              "pandas.core.series.Series"
            ]
          },
          "metadata": {
            "tags": []
          },
          "execution_count": 18
        }
      ]
    },
    {
      "cell_type": "markdown",
      "metadata": {
        "id": "Ih2clapvJ-3x"
      },
      "source": [
        "Verificando os valores únicos na coluna setor:"
      ]
    },
    {
      "cell_type": "code",
      "metadata": {
        "colab": {
          "base_uri": "https://localhost:8080/"
        },
        "id": "YSSavp5m5D-b",
        "outputId": "015cd679-ad00-40b8-ecc9-4d138efe4dab"
      },
      "source": [
        "df['setor'].unique()"
      ],
      "execution_count": 19,
      "outputs": [
        {
          "output_type": "execute_result",
          "data": {
            "text/plain": [
              "array(['Mesa_banho', 'mesa_banho', 'mesa_Banho', 'perfumaria',\n",
              "       'informatica', 'Informatica', 'informaticA', 'brinquedos',\n",
              "       'brinquEdos', 'Brinquedos'], dtype=object)"
            ]
          },
          "metadata": {
            "tags": []
          },
          "execution_count": 19
        }
      ]
    },
    {
      "cell_type": "markdown",
      "metadata": {
        "id": "eS8Wg7m75C-c"
      },
      "source": [
        "Transformando cada elemento da coluna escolhida para um elemento string com letras minúsculas:"
      ]
    },
    {
      "cell_type": "code",
      "metadata": {
        "id": "p9sdVhiFfIH8"
      },
      "source": [
        "def transforma_para_minusculas(x):\n",
        "  return(str(x).lower())\n",
        "\n",
        "df['setor'] = df['setor'].apply(func = transforma_para_minusculas)"
      ],
      "execution_count": 20,
      "outputs": []
    },
    {
      "cell_type": "markdown",
      "metadata": {
        "id": "bkOBZivuf1uw"
      },
      "source": [
        "Agora se visualizarmos novamente os valores únicos da coluna, teremos:"
      ]
    },
    {
      "cell_type": "code",
      "metadata": {
        "colab": {
          "base_uri": "https://localhost:8080/"
        },
        "id": "4DqJTTqIf7dv",
        "outputId": "b3cf1bf5-b821-487c-f25f-529cc1d1e535"
      },
      "source": [
        "df['setor'].unique()"
      ],
      "execution_count": 21,
      "outputs": [
        {
          "output_type": "execute_result",
          "data": {
            "text/plain": [
              "array(['mesa_banho', 'perfumaria', 'informatica', 'brinquedos'],\n",
              "      dtype=object)"
            ]
          },
          "metadata": {
            "tags": []
          },
          "execution_count": 21
        }
      ]
    },
    {
      "cell_type": "markdown",
      "metadata": {
        "id": "gBt5rSAQj2g0"
      },
      "source": [
        "Contando quantas compras temos por setor:"
      ]
    },
    {
      "cell_type": "code",
      "metadata": {
        "colab": {
          "base_uri": "https://localhost:8080/"
        },
        "id": "tKRtfogZKYzG",
        "outputId": "c9b3e5ab-64d5-464b-ea7e-0c553e9a4e2d"
      },
      "source": [
        "df['setor'].value_counts()"
      ],
      "execution_count": 22,
      "outputs": [
        {
          "output_type": "execute_result",
          "data": {
            "text/plain": [
              "brinquedos     166\n",
              "informatica    144\n",
              "mesa_banho     141\n",
              "perfumaria      77\n",
              "Name: setor, dtype: int64"
            ]
          },
          "metadata": {
            "tags": []
          },
          "execution_count": 22
        }
      ]
    },
    {
      "cell_type": "markdown",
      "metadata": {
        "id": "LDxKmQCjkqQM"
      },
      "source": [
        "Gerando um gráfico simples e rápido:"
      ]
    },
    {
      "cell_type": "code",
      "metadata": {
        "colab": {
          "base_uri": "https://localhost:8080/",
          "height": 337
        },
        "id": "eu1BaOwNktGS",
        "outputId": "99b9604e-0c98-47b3-c1f4-c05426dfb895"
      },
      "source": [
        "df['setor'].value_counts().plot(kind='bar')"
      ],
      "execution_count": 23,
      "outputs": [
        {
          "output_type": "execute_result",
          "data": {
            "text/plain": [
              "<matplotlib.axes._subplots.AxesSubplot at 0x7f0f4a4faa10>"
            ]
          },
          "metadata": {
            "tags": []
          },
          "execution_count": 23
        },
        {
          "output_type": "display_data",
          "data": {
            "image/png": "[encoded data removed]",
            "text/plain": [
              "<Figure size 432x288 with 1 Axes>"
            ]
          },
          "metadata": {
            "tags": [],
            "needs_background": "light"
          }
        }
      ]
    },
    {
      "cell_type": "markdown",
      "metadata": {
        "id": "QH2a0N3rl-id"
      },
      "source": [
        "Organizando a quantidade de vendas dos setores do menor para o maior:"
      ]
    },
    {
      "cell_type": "code",
      "metadata": {
        "colab": {
          "base_uri": "https://localhost:8080/"
        },
        "id": "2FW6N32Klkhk",
        "outputId": "c2092ae3-5f96-4e6d-aa17-6c11639660f3"
      },
      "source": [
        "df['setor'].value_counts().sort_values(ascending = True)"
      ],
      "execution_count": 24,
      "outputs": [
        {
          "output_type": "execute_result",
          "data": {
            "text/plain": [
              "perfumaria      77\n",
              "mesa_banho     141\n",
              "informatica    144\n",
              "brinquedos     166\n",
              "Name: setor, dtype: int64"
            ]
          },
          "metadata": {
            "tags": []
          },
          "execution_count": 24
        }
      ]
    },
    {
      "cell_type": "markdown",
      "metadata": {
        "id": "DzUR_3vhtwcb"
      },
      "source": [
        "Transformando cada elemento -  Retirando o cifrão 'R$ ' de cada valor que aparece na coluna de valor total:"
      ]
    },
    {
      "cell_type": "code",
      "metadata": {
        "id": "kCiLrXyKsAsV"
      },
      "source": [
        "df['valor_total'] = df['valor_total'].map(lambda x: str(x).replace('R$ ', ''))"
      ],
      "execution_count": 25,
      "outputs": []
    },
    {
      "cell_type": "markdown",
      "metadata": {
        "id": "wDT8HOaiuthj"
      },
      "source": [
        "Visualizando um elemento dessa coluna:"
      ]
    },
    {
      "cell_type": "code",
      "metadata": {
        "colab": {
          "base_uri": "https://localhost:8080/",
          "height": 35
        },
        "id": "C5DCKpIKuwLx",
        "outputId": "b76257d9-5ca8-497e-a2a6-dc80b81e07b6"
      },
      "source": [
        "df['valor_total'][0]"
      ],
      "execution_count": 26,
      "outputs": [
        {
          "output_type": "execute_result",
          "data": {
            "application/vnd.google.colaboratory.intrinsic+json": {
              "type": "string"
            },
            "text/plain": [
              "'210,00'"
            ]
          },
          "metadata": {
            "tags": []
          },
          "execution_count": 26
        }
      ]
    },
    {
      "cell_type": "markdown",
      "metadata": {
        "id": "J9FQW8LRuykW"
      },
      "source": [
        "Agora vamos transformar nossa vírgula dos elementos em ponto e já transformar esse nosso conjunto em valores numéricos: "
      ]
    },
    {
      "cell_type": "code",
      "metadata": {
        "id": "Sk2n5KUyvGbo"
      },
      "source": [
        "df['valor_total'] = pd.to_numeric(df['valor_total'].map(lambda x: str(x).replace(',', '.')))"
      ],
      "execution_count": 27,
      "outputs": []
    },
    {
      "cell_type": "markdown",
      "metadata": {
        "id": "4kDbskqawuja"
      },
      "source": [
        "Veja que agora nossa coluna tem o formato númerico float:"
      ]
    },
    {
      "cell_type": "code",
      "metadata": {
        "colab": {
          "base_uri": "https://localhost:8080/"
        },
        "id": "_8Qs8pp5wcO7",
        "outputId": "f8493542-5a4a-4d00-cb4f-370654173ca5"
      },
      "source": [
        "df['valor_total'].dtype"
      ],
      "execution_count": 28,
      "outputs": [
        {
          "output_type": "execute_result",
          "data": {
            "text/plain": [
              "dtype('float64')"
            ]
          },
          "metadata": {
            "tags": []
          },
          "execution_count": 28
        }
      ]
    },
    {
      "cell_type": "markdown",
      "metadata": {
        "id": "EAxa9Dtq0kFp"
      },
      "source": [
        "Somando todos os elementos da coluna Valor Total:"
      ]
    },
    {
      "cell_type": "code",
      "metadata": {
        "colab": {
          "base_uri": "https://localhost:8080/"
        },
        "id": "QpJwt4uK0neK",
        "outputId": "93a8c805-d3c7-4982-9a04-6dea65e3b413"
      },
      "source": [
        "df['valor_total'].sum()"
      ],
      "execution_count": 29,
      "outputs": [
        {
          "output_type": "execute_result",
          "data": {
            "text/plain": [
              "148230.64"
            ]
          },
          "metadata": {
            "tags": []
          },
          "execution_count": 29
        }
      ]
    },
    {
      "cell_type": "markdown",
      "metadata": {
        "id": "rDEoEuUS2tmn"
      },
      "source": [
        "Selecionando um subconjunto dos nossos dados:"
      ]
    },
    {
      "cell_type": "code",
      "metadata": {
        "colab": {
          "base_uri": "https://localhost:8080/",
          "height": 106
        },
        "id": "5JorMT4x2yoM",
        "outputId": "68ef2ed8-b566-4033-cae6-935db5536912"
      },
      "source": [
        "df.loc[0:3,'id':'valor_un']"
      ],
      "execution_count": 30,
      "outputs": [
        {
          "output_type": "execute_result",
          "data": {
            "text/html": [
              "<div>\n",
              "<style scoped>\n",
              "    .dataframe tbody tr th:only-of-type {\n",
              "        vertical-align: middle;\n",
              "    }\n",
              "\n",
              "    .dataframe tbody tr th {\n",
              "        vertical-align: top;\n",
              "    }\n",
              "\n",
              "    .dataframe thead th {\n",
              "        text-align: right;\n",
              "    }\n",
              "</style>\n",
              "<table border=\"1\" class=\"dataframe\">\n",
              "  <thead>\n",
              "    <tr style=\"text-align: right;\">\n",
              "      <th></th>\n",
              "      <th>id</th>\n",
              "      <th>data_aq</th>\n",
              "      <th>produto</th>\n",
              "      <th>quantidade</th>\n",
              "      <th>valor_un</th>\n",
              "    </tr>\n",
              "  </thead>\n",
              "  <tbody>\n",
              "    <tr>\n",
              "      <th>0</th>\n",
              "      <td>0</td>\n",
              "      <td>01/01/2019</td>\n",
              "      <td>toalha</td>\n",
              "      <td>6</td>\n",
              "      <td>R$ 35,00</td>\n",
              "    </tr>\n",
              "    <tr>\n",
              "      <th>2</th>\n",
              "      <td>2</td>\n",
              "      <td>03/01/2019</td>\n",
              "      <td>toalha</td>\n",
              "      <td>2</td>\n",
              "      <td>R$ 35,00</td>\n",
              "    </tr>\n",
              "  </tbody>\n",
              "</table>\n",
              "</div>"
            ],
            "text/plain": [
              "   id     data_aq produto  quantidade  valor_un\n",
              "0   0  01/01/2019  toalha           6  R$ 35,00\n",
              "2   2  03/01/2019  toalha           2  R$ 35,00"
            ]
          },
          "metadata": {
            "tags": []
          },
          "execution_count": 30
        }
      ]
    },
    {
      "cell_type": "markdown",
      "metadata": {
        "id": "_23KDU9v3yYn"
      },
      "source": [
        "O mesmo pode ser obtido com o método iloc, mas utilizando as posições numéricas das colunas:"
      ]
    },
    {
      "cell_type": "code",
      "metadata": {
        "colab": {
          "base_uri": "https://localhost:8080/",
          "height": 106
        },
        "id": "3axXBoC037FN",
        "outputId": "6a3c76ba-4f63-4127-d6eb-3848897b9365"
      },
      "source": [
        "df.iloc[0:2,0:5]"
      ],
      "execution_count": 31,
      "outputs": [
        {
          "output_type": "execute_result",
          "data": {
            "text/html": [
              "<div>\n",
              "<style scoped>\n",
              "    .dataframe tbody tr th:only-of-type {\n",
              "        vertical-align: middle;\n",
              "    }\n",
              "\n",
              "    .dataframe tbody tr th {\n",
              "        vertical-align: top;\n",
              "    }\n",
              "\n",
              "    .dataframe thead th {\n",
              "        text-align: right;\n",
              "    }\n",
              "</style>\n",
              "<table border=\"1\" class=\"dataframe\">\n",
              "  <thead>\n",
              "    <tr style=\"text-align: right;\">\n",
              "      <th></th>\n",
              "      <th>id</th>\n",
              "      <th>data_aq</th>\n",
              "      <th>produto</th>\n",
              "      <th>quantidade</th>\n",
              "      <th>valor_un</th>\n",
              "    </tr>\n",
              "  </thead>\n",
              "  <tbody>\n",
              "    <tr>\n",
              "      <th>0</th>\n",
              "      <td>0</td>\n",
              "      <td>01/01/2019</td>\n",
              "      <td>toalha</td>\n",
              "      <td>6</td>\n",
              "      <td>R$ 35,00</td>\n",
              "    </tr>\n",
              "    <tr>\n",
              "      <th>2</th>\n",
              "      <td>2</td>\n",
              "      <td>03/01/2019</td>\n",
              "      <td>toalha</td>\n",
              "      <td>2</td>\n",
              "      <td>R$ 35,00</td>\n",
              "    </tr>\n",
              "  </tbody>\n",
              "</table>\n",
              "</div>"
            ],
            "text/plain": [
              "   id     data_aq produto  quantidade  valor_un\n",
              "0   0  01/01/2019  toalha           6  R$ 35,00\n",
              "2   2  03/01/2019  toalha           2  R$ 35,00"
            ]
          },
          "metadata": {
            "tags": []
          },
          "execution_count": 31
        }
      ]
    },
    {
      "cell_type": "markdown",
      "metadata": {
        "id": "OYBcBuKX2pNv"
      },
      "source": [
        "Somando os valores totais de um único setor:"
      ]
    },
    {
      "cell_type": "code",
      "metadata": {
        "colab": {
          "base_uri": "https://localhost:8080/"
        },
        "id": "R7EoNj9y5KkI",
        "outputId": "f2528438-d97c-452e-854f-f47562cad029"
      },
      "source": [
        "df.loc[df['setor'] == 'informatica', 'valor_total']"
      ],
      "execution_count": 32,
      "outputs": [
        {
          "output_type": "execute_result",
          "data": {
            "text/plain": [
              "229    178.90\n",
              "230    196.79\n",
              "231    107.34\n",
              "232     35.78\n",
              "233    107.34\n",
              "        ...  \n",
              "372    163.95\n",
              "373    218.60\n",
              "374    491.85\n",
              "375     54.65\n",
              "376    109.30\n",
              "Name: valor_total, Length: 144, dtype: float64"
            ]
          },
          "metadata": {
            "tags": []
          },
          "execution_count": 32
        }
      ]
    },
    {
      "cell_type": "code",
      "metadata": {
        "colab": {
          "base_uri": "https://localhost:8080/"
        },
        "id": "GifwylDN1U8q",
        "outputId": "93534659-093c-423b-913b-94b0d8fbca57"
      },
      "source": [
        "df.loc[df['setor'] == 'informatica', 'valor_total'].sum()"
      ],
      "execution_count": 33,
      "outputs": [
        {
          "output_type": "execute_result",
          "data": {
            "text/plain": [
              "29542.489999999998"
            ]
          },
          "metadata": {
            "tags": []
          },
          "execution_count": 33
        }
      ]
    },
    {
      "cell_type": "markdown",
      "metadata": {
        "id": "zrZG4XAwEF8f"
      },
      "source": [
        "Exibindo as informações estatística do nosso conjunto de dados:"
      ]
    },
    {
      "cell_type": "code",
      "metadata": {
        "colab": {
          "base_uri": "https://localhost:8080/",
          "height": 284
        },
        "id": "36J14S43FM5E",
        "outputId": "70ac4731-dc98-41cb-ccd3-ca01e48612ad"
      },
      "source": [
        "df.describe()"
      ],
      "execution_count": 34,
      "outputs": [
        {
          "output_type": "execute_result",
          "data": {
            "text/html": [
              "<div>\n",
              "<style scoped>\n",
              "    .dataframe tbody tr th:only-of-type {\n",
              "        vertical-align: middle;\n",
              "    }\n",
              "\n",
              "    .dataframe tbody tr th {\n",
              "        vertical-align: top;\n",
              "    }\n",
              "\n",
              "    .dataframe thead th {\n",
              "        text-align: right;\n",
              "    }\n",
              "</style>\n",
              "<table border=\"1\" class=\"dataframe\">\n",
              "  <thead>\n",
              "    <tr style=\"text-align: right;\">\n",
              "      <th></th>\n",
              "      <th>id</th>\n",
              "      <th>quantidade</th>\n",
              "      <th>valor_total</th>\n",
              "    </tr>\n",
              "  </thead>\n",
              "  <tbody>\n",
              "    <tr>\n",
              "      <th>count</th>\n",
              "      <td>528.000000</td>\n",
              "      <td>528.000000</td>\n",
              "      <td>528.000000</td>\n",
              "    </tr>\n",
              "    <tr>\n",
              "      <th>mean</th>\n",
              "      <td>275.229167</td>\n",
              "      <td>6.032197</td>\n",
              "      <td>280.739848</td>\n",
              "    </tr>\n",
              "    <tr>\n",
              "      <th>std</th>\n",
              "      <td>157.431587</td>\n",
              "      <td>3.207100</td>\n",
              "      <td>383.826301</td>\n",
              "    </tr>\n",
              "    <tr>\n",
              "      <th>min</th>\n",
              "      <td>0.000000</td>\n",
              "      <td>1.000000</td>\n",
              "      <td>2.990000</td>\n",
              "    </tr>\n",
              "    <tr>\n",
              "      <th>25%</th>\n",
              "      <td>137.750000</td>\n",
              "      <td>3.000000</td>\n",
              "      <td>64.950000</td>\n",
              "    </tr>\n",
              "    <tr>\n",
              "      <th>50%</th>\n",
              "      <td>276.000000</td>\n",
              "      <td>6.000000</td>\n",
              "      <td>142.890000</td>\n",
              "    </tr>\n",
              "    <tr>\n",
              "      <th>75%</th>\n",
              "      <td>411.250000</td>\n",
              "      <td>9.000000</td>\n",
              "      <td>317.137500</td>\n",
              "    </tr>\n",
              "    <tr>\n",
              "      <th>max</th>\n",
              "      <td>548.000000</td>\n",
              "      <td>11.000000</td>\n",
              "      <td>2310.000000</td>\n",
              "    </tr>\n",
              "  </tbody>\n",
              "</table>\n",
              "</div>"
            ],
            "text/plain": [
              "               id  quantidade  valor_total\n",
              "count  528.000000  528.000000   528.000000\n",
              "mean   275.229167    6.032197   280.739848\n",
              "std    157.431587    3.207100   383.826301\n",
              "min      0.000000    1.000000     2.990000\n",
              "25%    137.750000    3.000000    64.950000\n",
              "50%    276.000000    6.000000   142.890000\n",
              "75%    411.250000    9.000000   317.137500\n",
              "max    548.000000   11.000000  2310.000000"
            ]
          },
          "metadata": {
            "tags": []
          },
          "execution_count": 34
        }
      ]
    }
  ]
}